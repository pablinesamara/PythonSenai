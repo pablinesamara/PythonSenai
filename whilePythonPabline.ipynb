{
  "nbformat": 4,
  "nbformat_minor": 0,
  "metadata": {
    "colab": {
      "provenance": [],
      "authorship_tag": "ABX9TyN4hrO3EhNuJZk2I0Yx3zdV",
      "include_colab_link": true
    },
    "kernelspec": {
      "name": "python3",
      "display_name": "Python 3"
    },
    "language_info": {
      "name": "python"
    }
  },
  "cells": [
    {
      "cell_type": "markdown",
      "metadata": {
        "id": "view-in-github",
        "colab_type": "text"
      },
      "source": [
        "<a href=\"https://colab.research.google.com/github/pablinesamara/PythonSenai/blob/main/whilePythonPabline.ipynb\" target=\"_parent\"><img src=\"https://colab.research.google.com/assets/colab-badge.svg\" alt=\"Open In Colab\"/></a>"
      ]
    },
    {
      "cell_type": "markdown",
      "source": [
        "1. Peça um número ao usuário e continue pedindo até que ele digite o número 5.\n"
      ],
      "metadata": {
        "id": "CGh2Iq033YfC"
      }
    },
    {
      "cell_type": "code",
      "source": [
        "while True:\n",
        "  num= int(input('Digite um numero :'))\n",
        "  if num == 5:\n",
        "    print('Parabens voce acertou')\n",
        "    break\n",
        "  else:\n",
        "    print('Tente novamente')"
      ],
      "metadata": {
        "colab": {
          "base_uri": "https://localhost:8080/"
        },
        "id": "MG_vic4w4VRJ",
        "outputId": "6d758a90-9ad7-4489-dbea-dfcf943eb351"
      },
      "execution_count": null,
      "outputs": [
        {
          "output_type": "stream",
          "name": "stdout",
          "text": [
            "Digite um numero :1\n",
            "Tente novamente\n",
            "Digite um numero :1\n",
            "Tente novamente\n",
            "Digite um numero :2\n",
            "Tente novamente\n",
            "Digite um numero :5\n",
            "Parabens voce acertou\n"
          ]
        }
      ]
    },
    {
      "cell_type": "markdown",
      "source": [
        "2. Peça a senha para o usuário. Continue pedindo até que ele digite a senha correta '1234'.\n"
      ],
      "metadata": {
        "id": "Tphb_Usg3fOp"
      }
    },
    {
      "cell_type": "code",
      "source": [
        "senha=str(input('Digite a senha :'))\n",
        "while senha != '1234':\n",
        "  print('Senha incorreta')\n",
        "  senha=str(input('Digite a senha :'))\n",
        "print('Acesso liberado')"
      ],
      "metadata": {
        "colab": {
          "base_uri": "https://localhost:8080/"
        },
        "id": "9G1C-bLC4VxK",
        "outputId": "46a9ab5c-d069-4c91-97e3-14c415ace82e"
      },
      "execution_count": null,
      "outputs": [
        {
          "output_type": "stream",
          "name": "stdout",
          "text": [
            "Digite a senha :0000\n",
            "Senha incorreta\n",
            "Digite a senha :1234\n",
            "Acesso liberado\n"
          ]
        }
      ]
    },
    {
      "cell_type": "markdown",
      "source": [
        "3. Peça um número e mostre todos os números de 1 até esse número, usando while.\n"
      ],
      "metadata": {
        "id": "t9wPBjZq3idS"
      }
    },
    {
      "cell_type": "code",
      "source": [
        "contador=1\n",
        "numero=int(input('Digite um numero :'))\n",
        "while contador<numero:\n",
        "  print(contador,\"<\", numero)\n",
        "  contador+= 1"
      ],
      "metadata": {
        "colab": {
          "base_uri": "https://localhost:8080/"
        },
        "id": "FpVRNiuF4WKx",
        "outputId": "0039bdf2-bf57-418d-a248-3de7091334bd"
      },
      "execution_count": null,
      "outputs": [
        {
          "output_type": "stream",
          "name": "stdout",
          "text": [
            "Digite um numero :10\n",
            "1 < 10\n",
            "2 < 10\n",
            "3 < 10\n",
            "4 < 10\n",
            "5 < 10\n",
            "6 < 10\n",
            "7 < 10\n",
            "8 < 10\n",
            "9 < 10\n"
          ]
        }
      ]
    },
    {
      "cell_type": "markdown",
      "source": [
        "4. Mostre na tela os números de 1 a 10.\n"
      ],
      "metadata": {
        "id": "Kh2QS9oq3lUS"
      }
    },
    {
      "cell_type": "code",
      "source": [
        "i=1\n",
        "while True:\n",
        "  if i<=10:\n",
        "    print(i)\n",
        "    i+=1\n",
        "    continue\n",
        "  else:\n",
        "    break"
      ],
      "metadata": {
        "colab": {
          "base_uri": "https://localhost:8080/"
        },
        "id": "OyD3ttU-4W1x",
        "outputId": "587cd5bb-f6d4-434f-af82-636dbf4d182f"
      },
      "execution_count": null,
      "outputs": [
        {
          "output_type": "stream",
          "name": "stdout",
          "text": [
            "1\n",
            "2\n",
            "3\n",
            "4\n",
            "5\n",
            "6\n",
            "7\n",
            "8\n",
            "9\n",
            "10\n"
          ]
        }
      ]
    },
    {
      "cell_type": "markdown",
      "source": [
        "5. Peça um número e mostre a tabuada desse número usando while.\n"
      ],
      "metadata": {
        "id": "0EaiOxjm3oJh"
      }
    },
    {
      "cell_type": "code",
      "source": [
        "numero=int(input(\"Digite um numero para tabuada :\"))\n",
        "contador=1\n",
        "while contador<=10:\n",
        "  resultado=numero*contador\n",
        "  print(f\"{numero}X{contador}={resultado}\")\n",
        "  contador+=1\n",
        "\n"
      ],
      "metadata": {
        "colab": {
          "base_uri": "https://localhost:8080/"
        },
        "id": "9kcVhumw4XTp",
        "outputId": "43c17d35-f219-4a1a-b87a-0f222739d63d"
      },
      "execution_count": null,
      "outputs": [
        {
          "output_type": "stream",
          "name": "stdout",
          "text": [
            "Digite um numero para tabuada :1\n",
            "1X1=1\n",
            "1X2=2\n",
            "1X3=3\n",
            "1X4=4\n",
            "1X5=5\n",
            "1X6=6\n",
            "1X7=7\n",
            "1X8=8\n",
            "1X9=9\n",
            "1X10=10\n"
          ]
        }
      ]
    },
    {
      "cell_type": "markdown",
      "source": [
        "6. Peça 5 números ao usuário e mostre a soma total deles no final."
      ],
      "metadata": {
        "id": "1hCn_DYp37KJ"
      }
    },
    {
      "cell_type": "code",
      "source": [
        "soma=0\n",
        "contador=0\n",
        "while contador<5:\n",
        "  numero=int(input(\"Digite um numero : \"))\n",
        "  soma+=numero\n",
        "  contador+=1\n",
        "print(f\"A soma total é {soma}\")"
      ],
      "metadata": {
        "colab": {
          "base_uri": "https://localhost:8080/"
        },
        "id": "LxwRBaX74X1p",
        "outputId": "93cadf80-ed18-4893-f197-5cc2268e9be0"
      },
      "execution_count": null,
      "outputs": [
        {
          "output_type": "stream",
          "name": "stdout",
          "text": [
            "Digite um numero : 19\n",
            "Digite um numero : 10\n",
            "Digite um numero : 11\n",
            "Digite um numero : 12\n",
            "Digite um numero : 12\n",
            "A soma total é 64\n"
          ]
        }
      ]
    },
    {
      "cell_type": "markdown",
      "source": [
        "7. Peça 5 números ao usuário e mostre qual foi o maior número digitado.\n"
      ],
      "metadata": {
        "id": "-tSzVVa43-Yr"
      }
    },
    {
      "cell_type": "code",
      "source": [
        "#Peça 5 números ao usuário e mostre qual foi o maior número digitado.\n",
        "numeros = []\n",
        "contador = 0\n",
        "\n",
        "print(\"Por favor, digite 5 números:\")\n",
        "\n",
        "while contador < 5:\n",
        "    numero = int (input(f\"Digite o {contador + 1}º número: \"))\n",
        "    numeros.append(numero)\n",
        "    contador += 1\n",
        "\n",
        "# Garante que a lista não esteja vazia antes de chamar max()\n",
        "if numeros:\n",
        "    maior_numero = max(numeros)\n",
        "    print(f\"\\nO maior número digitado foi: {maior_numero}\")"
      ],
      "metadata": {
        "colab": {
          "base_uri": "https://localhost:8080/"
        },
        "id": "_2SrQW-u4Yip",
        "outputId": "5920ae90-2a3e-40b5-a59e-4c78dbd28d87"
      },
      "execution_count": null,
      "outputs": [
        {
          "output_type": "stream",
          "name": "stdout",
          "text": [
            "Por favor, digite 5 números:\n",
            "Digite o 1º número: 8\n",
            "Digite o 2º número: 7\n",
            "Digite o 3º número: 6\n",
            "Digite o 4º número: 5\n",
            "Digite o 5º número: 4\n",
            "\n",
            "O maior número digitado foi: 8\n"
          ]
        }
      ]
    },
    {
      "cell_type": "markdown",
      "source": [
        "8. Peça 5 números e mostre qual foi o menor número digitado."
      ],
      "metadata": {
        "id": "2ggD_YqT4BLx"
      }
    },
    {
      "cell_type": "code",
      "source": [
        "#Peça 5 números ao usuário e mostre qual foi o maior número digitado.\n",
        "numeros = []\n",
        "contador = 0\n",
        "\n",
        "print(\"Por favor, digite 5 números:\")\n",
        "\n",
        "while contador < 5:\n",
        "    numero = int (input(f\"Digite o {contador + 1}º número: \"))\n",
        "    numeros.append(numero)\n",
        "    contador += 1\n",
        "\n",
        "# Garante que a lista não esteja vazia antes de chamar max()\n",
        "if numeros:\n",
        "    menor_numero = min(numeros)\n",
        "    print(f\"\\nO menor número digitado foi: {menor_numero}\")"
      ],
      "metadata": {
        "colab": {
          "base_uri": "https://localhost:8080/"
        },
        "id": "wIQ4GYhv4ZHR",
        "outputId": "b478314a-6ce8-4f84-bd41-f074008172fa"
      },
      "execution_count": null,
      "outputs": [
        {
          "output_type": "stream",
          "name": "stdout",
          "text": [
            "Por favor, digite 5 números:\n",
            "Digite o 1º número: 1\n",
            "Digite o 2º número: 2\n",
            "Digite o 3º número: 3\n",
            "Digite o 4º número: 4\n",
            "Digite o 5º número: 5\n",
            "\n",
            "O menor número digitado foi: 1\n"
          ]
        }
      ]
    },
    {
      "cell_type": "markdown",
      "source": [
        "9. Peça números ao usuário até que ele digite 0. Quando digitar 0, mostre a soma de todos os\n",
        "números digitados."
      ],
      "metadata": {
        "id": "H8dngfVK4DrS"
      }
    },
    {
      "cell_type": "code",
      "source": [
        "soma=0\n",
        "while True:\n",
        "  num= int(input('Digite um numero :'))\n",
        "  soma = soma + num\n",
        "  if num == 0:\n",
        "    print(f'A soma total é {soma}')\n",
        "    print(f\"Acertou !\")\n",
        "    break\n",
        "\n",
        ""
      ],
      "metadata": {
        "id": "U3J0JNbA4Zlo",
        "colab": {
          "base_uri": "https://localhost:8080/"
        },
        "outputId": "17dc8445-bd3a-4e50-f41f-2bd79bcbebeb"
      },
      "execution_count": 11,
      "outputs": [
        {
          "output_type": "stream",
          "name": "stdout",
          "text": [
            "Digite um numero :1\n",
            "Digite um numero :2\n",
            "Digite um numero :0\n",
            "A soma total é 3\n",
            "Acertou !\n"
          ]
        }
      ]
    },
    {
      "cell_type": "markdown",
      "source": [
        "10. Peça números ao usuário até que ele digite 0. No final, mostre quantos números ele digitou\n",
        "(sem contar o 0)."
      ],
      "metadata": {
        "id": "yniAfm9X4GHJ"
      }
    },
    {
      "cell_type": "code",
      "source": [
        "num= int(input('Digite um numero :'))\n",
        "contador=0\n",
        "while num != 0:\n",
        "  contador+=1\n",
        "  num= int(input('Digite um numero :'))\n",
        "print(f\"Você digitou {contador} números\")"
      ],
      "metadata": {
        "id": "EYm9qh4y4aGB",
        "colab": {
          "base_uri": "https://localhost:8080/"
        },
        "outputId": "dbacaff7-11d1-4b27-899f-8ded28886188"
      },
      "execution_count": 14,
      "outputs": [
        {
          "output_type": "stream",
          "name": "stdout",
          "text": [
            "Digite um numero :1\n",
            "Digite um numero :1\n",
            "Digite um numero :0\n",
            "Você digitou 2 números\n"
          ]
        }
      ]
    },
    {
      "cell_type": "markdown",
      "source": [
        "11. Peça números ao usuário até que ele digite 0. Depois mostre a média dos números digitados."
      ],
      "metadata": {
        "id": "mhK7ZP0q4Iuh"
      }
    },
    {
      "cell_type": "code",
      "source": [
        "num= int(input('Digite um numero :'))\n",
        "contador=0\n",
        "soma=0\n",
        "while num != 0:\n",
        "  contador+=1\n",
        "  soma+=num\n",
        "  num= int(input('Digite um numero :'))\n",
        "  media=soma/contador\n",
        "print(\"A média dos números é \",media)"
      ],
      "metadata": {
        "id": "SprJU-bN4aiB",
        "colab": {
          "base_uri": "https://localhost:8080/"
        },
        "outputId": "293da446-c4be-4fa8-b204-d779573894fa"
      },
      "execution_count": 16,
      "outputs": [
        {
          "output_type": "stream",
          "name": "stdout",
          "text": [
            "Digite um numero :2\n",
            "Digite um numero :3\n",
            "Digite um numero :4\n",
            "Digite um numero :0\n",
            "A média dos números é  3.0\n"
          ]
        }
      ]
    },
    {
      "cell_type": "markdown",
      "source": [
        "12. Mostre os números pares de 0 até 20 usando while."
      ],
      "metadata": {
        "id": "s3PucT8h4LVp"
      }
    },
    {
      "cell_type": "code",
      "source": [
        "cont=0\n",
        "while cont<20:\n",
        "  if cont%2==0:\n",
        "    print('numero par: ',cont)\n",
        "  cont+=1"
      ],
      "metadata": {
        "id": "Go_M3j2n4a7S",
        "colab": {
          "base_uri": "https://localhost:8080/"
        },
        "outputId": "fe613765-200c-428c-8e02-2d6fb3e3b800"
      },
      "execution_count": 19,
      "outputs": [
        {
          "output_type": "stream",
          "name": "stdout",
          "text": [
            "numero par:  0\n",
            "numero par:  2\n",
            "numero par:  4\n",
            "numero par:  6\n",
            "numero par:  8\n",
            "numero par:  10\n",
            "numero par:  12\n",
            "numero par:  14\n",
            "numero par:  16\n",
            "numero par:  18\n"
          ]
        }
      ]
    },
    {
      "cell_type": "markdown",
      "source": [
        "13. Mostre os números ímpares de 1 até 19 usando while."
      ],
      "metadata": {
        "id": "7NfCl70k4N2y"
      }
    },
    {
      "cell_type": "code",
      "source": [
        "cont=0\n",
        "while cont<20:\n",
        "  if cont%2!=0:\n",
        "    print('numero impar: ',cont)\n",
        "  cont+=1"
      ],
      "metadata": {
        "id": "nLAhzq9V4bex",
        "colab": {
          "base_uri": "https://localhost:8080/"
        },
        "outputId": "c81fd6c0-45a4-43e6-f3c5-cb5a086315a4"
      },
      "execution_count": 20,
      "outputs": [
        {
          "output_type": "stream",
          "name": "stdout",
          "text": [
            "numero impar:  1\n",
            "numero impar:  3\n",
            "numero impar:  5\n",
            "numero impar:  7\n",
            "numero impar:  9\n",
            "numero impar:  11\n",
            "numero impar:  13\n",
            "numero impar:  15\n",
            "numero impar:  17\n",
            "numero impar:  19\n"
          ]
        }
      ]
    },
    {
      "cell_type": "markdown",
      "source": [
        "14. Peça uma palavra ao usuário e continue pedindo até que ele digite a palavra 'fim'."
      ],
      "metadata": {
        "id": "gP56fb1k4Pza"
      }
    },
    {
      "cell_type": "code",
      "source": [
        "while True:\n",
        "  word= str(input('Digite um numero :')).lower()\n",
        "  if word == \"fim\":\n",
        "    print('Parabens voce acertou')\n",
        "    break\n",
        "  else:\n",
        "    print('Tente novamente')"
      ],
      "metadata": {
        "id": "H5Nwm86w4b55",
        "colab": {
          "base_uri": "https://localhost:8080/"
        },
        "outputId": "ce161009-ed52-402d-bc13-86ee048bce9c"
      },
      "execution_count": 22,
      "outputs": [
        {
          "output_type": "stream",
          "name": "stdout",
          "text": [
            "Digite um numero :a\n",
            "Tente novamente\n",
            "Digite um numero :b\n",
            "Tente novamente\n",
            "Digite um numero :FIM\n",
            "Parabens voce acertou\n"
          ]
        }
      ]
    },
    {
      "cell_type": "markdown",
      "source": [
        "15. Peça a idade de várias pessoas. Quando a idade for 0, pare. No final, mostre a idade média das\n",
        "pessoas."
      ],
      "metadata": {
        "id": "ZxcFF6hY4SEh"
      }
    },
    {
      "cell_type": "code",
      "source": [
        "idade= int(input('Digite Sua idade :'))\n",
        "contador=0\n",
        "soma=0\n",
        "while idade != 0:\n",
        "  contador+=1\n",
        "  soma+=idade\n",
        "  idade= int(input('Digite um numero :'))\n",
        "  media=soma/contador\n",
        "print(\"A idade média é digitada é : \",media)"
      ],
      "metadata": {
        "id": "huxotbAg4cYp",
        "colab": {
          "base_uri": "https://localhost:8080/"
        },
        "outputId": "a033109b-a056-4129-8079-b2b30e639f84"
      },
      "execution_count": 23,
      "outputs": [
        {
          "output_type": "stream",
          "name": "stdout",
          "text": [
            "Digite Sua idade :10\n",
            "Digite um numero :11\n",
            "Digite um numero :12\n",
            "Digite um numero :0\n",
            "A média dos números é  11.0\n"
          ]
        }
      ]
    },
    {
      "cell_type": "markdown",
      "source": [
        "16. Crie um programa que fique pedindo números. Quando o número for negativo, o programa\n",
        "para."
      ],
      "metadata": {
        "id": "rH2zlqvw34eq"
      }
    },
    {
      "cell_type": "code",
      "source": [
        "while True:\n",
        "  num=int (input(\"Digite um numero :\"))\n",
        "  if num<0:\n",
        "    print(\"numero negativo\", num)\n",
        "    break\n",
        "  else:\n",
        "    print(\"numero positivo\",num)"
      ],
      "metadata": {
        "id": "eYUAa_x74c6Z",
        "colab": {
          "base_uri": "https://localhost:8080/"
        },
        "outputId": "feabfdbf-7e7d-4bb4-9192-3269488ba4a4"
      },
      "execution_count": 24,
      "outputs": [
        {
          "output_type": "stream",
          "name": "stdout",
          "text": [
            "Digite um numero :1\n",
            "numero positivo 1\n",
            "Digite um numero :2\n",
            "numero positivo 2\n",
            "Digite um numero :-1\n",
            "numero negativo -1\n"
          ]
        }
      ]
    },
    {
      "cell_type": "markdown",
      "source": [
        "17. Crie um programa que peça uma senha. Se a senha estiver errada, mostre 'Senha incorreta' e\n",
        "peça novamente, até que acerte a senha correta 'python'."
      ],
      "metadata": {
        "id": "8mWxMLY431lq"
      }
    },
    {
      "cell_type": "code",
      "source": [
        "senha=str(input('Digite a senha :'))\n",
        "while senha != 'python':\n",
        "  print('Senha incorreta')\n",
        "  senha=str(input('Digite a senha :'))\n",
        "print('Acesso liberado')"
      ],
      "metadata": {
        "id": "P0vnYM4m4dap",
        "colab": {
          "base_uri": "https://localhost:8080/"
        },
        "outputId": "8852e123-3deb-4561-f7de-b2ce9b4c2ce3"
      },
      "execution_count": 26,
      "outputs": [
        {
          "output_type": "stream",
          "name": "stdout",
          "text": [
            "Digite a senha :py\n",
            "Senha incorreta\n",
            "Digite a senha :pytho\n",
            "Senha incorreta\n",
            "Digite a senha :python\n",
            "Acesso liberado\n"
          ]
        }
      ]
    },
    {
      "cell_type": "markdown",
      "source": [
        "18. Mostre os números de 50 até 1, de trás para frente."
      ],
      "metadata": {
        "id": "9DZTCTIk3wWx"
      }
    },
    {
      "cell_type": "code",
      "source": [
        "num=50\n",
        "while num>0:\n",
        "  print(num)\n",
        "  num-=1"
      ],
      "metadata": {
        "id": "P44CfFoy4d7Z"
      },
      "execution_count": null,
      "outputs": []
    },
    {
      "cell_type": "markdown",
      "source": [
        "\n",
        "19. Peça um número e mostre todos os números de 0 até esse número, somente os pares."
      ],
      "metadata": {
        "id": "eurGQRsI3uWB"
      }
    },
    {
      "cell_type": "code",
      "source": [
        "num=int(input(\"Digite um numero :\"))\n",
        "cont=0\n",
        "print(f\"De {cont} até {num} os pares são : \")\n",
        "while cont<num:\n",
        "  cont+=1\n",
        "  if cont%2==0:\n",
        "    print(cont)\n",
        "\n"
      ],
      "metadata": {
        "id": "VznBSxsO4ePa",
        "colab": {
          "base_uri": "https://localhost:8080/"
        },
        "outputId": "d3fdf539-180d-4d2f-9a01-def4857cd2e6"
      },
      "execution_count": 35,
      "outputs": [
        {
          "output_type": "stream",
          "name": "stdout",
          "text": [
            "Digite um numero :10\n",
            "De 0 até 10 os pares são : \n",
            "2\n",
            "4\n",
            "6\n",
            "8\n",
            "10\n"
          ]
        }
      ]
    },
    {
      "cell_type": "markdown",
      "source": [
        "20. Crie um programa que peça dois números: um início e um fim. Depois mostre todos os números\n",
        "de início até o fim."
      ],
      "metadata": {
        "id": "G2t-A3Dm3rH5"
      }
    },
    {
      "cell_type": "code",
      "source": [
        "numeroA=int(input(\"Digite um numero :\"))\n",
        "numeroB=int(input(\"Digite um numero :\"))\n",
        "\n",
        "# Agora, você pode usar as funções max() e min() para encontrar o máximo e mínimo\n",
        "maiorNum = max(numeroA,numeroB)\n",
        "menorNum = min(numeroA,numeroB)\n",
        "\n",
        "print(f\"De {menorNum} até {maiorNum} \")\n",
        "while menorNum<=maiorNum:\n",
        "  print(menorNum)\n",
        "  menorNum+= 1\n",
        ""
      ],
      "metadata": {
        "id": "anp4CvBt4evR",
        "colab": {
          "base_uri": "https://localhost:8080/"
        },
        "outputId": "e3a7bed8-3c0c-4266-bcd0-bd0756a9ae6c"
      },
      "execution_count": 38,
      "outputs": [
        {
          "output_type": "stream",
          "name": "stdout",
          "text": [
            "Digite um numero :1\n",
            "Digite um numero :11\n",
            "De 1 até 11 \n",
            "1\n",
            "2\n",
            "3\n",
            "4\n",
            "5\n",
            "6\n",
            "7\n",
            "8\n",
            "9\n",
            "10\n",
            "11\n"
          ]
        }
      ]
    }
  ]
}