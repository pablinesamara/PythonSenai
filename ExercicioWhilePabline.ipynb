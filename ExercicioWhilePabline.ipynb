{
  "nbformat": 4,
  "nbformat_minor": 0,
  "metadata": {
    "colab": {
      "provenance": [],
      "authorship_tag": "ABX9TyMgLWgOXi5em+SCVggY9cSO",
      "include_colab_link": true
    },
    "kernelspec": {
      "name": "python3",
      "display_name": "Python 3"
    },
    "language_info": {
      "name": "python"
    }
  },
  "cells": [
    {
      "cell_type": "markdown",
      "metadata": {
        "id": "view-in-github",
        "colab_type": "text"
      },
      "source": [
        "<a href=\"https://colab.research.google.com/github/pablinesamara/PythonSenai/blob/main/ExercicioWhilePabline.ipynb\" target=\"_parent\"><img src=\"https://colab.research.google.com/assets/colab-badge.svg\" alt=\"Open In Colab\"/></a>"
      ]
    },
    {
      "cell_type": "markdown",
      "source": [
        "1. Faça um programa que peça uma nota, entre zero e dez. Mostre uma mensagem\n",
        "caso o valor seja inválido e continue pedindo até que o usuário informe um valor\n",
        "válido.\n"
      ],
      "metadata": {
        "id": "_U2KN5bdMbIt"
      }
    },
    {
      "cell_type": "code",
      "source": [
        "nota= int(input(\"Digite o valor da nota de 0 a 10 :\"))\n",
        "while nota<0 or nota>10:\n",
        "    print(\"Valor inválido\")\n",
        "    nota=int(input(\"Digite o valor da nota de 0 a 10 :\"))\n",
        "\n",
        "print(\"Nota válida : \", nota)\n",
        "\n",
        "'''\n",
        " While True:\n",
        "  nota= int(input(\"Digite o valor da nota de 0 a 10 :\"))\n",
        "  if  0<nota>10 :\n",
        "    print(\"Valor inválido\")\n",
        "  else:\n",
        "    print(\"Nota: \", nota)\n",
        "    break\n",
        "'''\n"
      ],
      "metadata": {
        "colab": {
          "base_uri": "https://localhost:8080/",
          "height": 89
        },
        "id": "LMCreZd2UVr2",
        "outputId": "44508f04-e00b-4f5d-c5cc-44597a70f8e6"
      },
      "execution_count": null,
      "outputs": [
        {
          "output_type": "stream",
          "name": "stdout",
          "text": [
            "Digite o valor da nota de 0 a 10 :1\n",
            "Nota válida :  1\n"
          ]
        },
        {
          "output_type": "execute_result",
          "data": {
            "text/plain": [
              "'   \\n While True:\\n  nota= int(input(\"Digite o valor da nota de 0 a 10 :\"))\\n  if  0<nota>10 :\\n    print(\"Valor inválido\")\\n  else:\\n    print(\"Nota: \", nota)\\n    break\\n'"
            ],
            "application/vnd.google.colaboratory.intrinsic+json": {
              "type": "string"
            }
          },
          "metadata": {},
          "execution_count": 20
        }
      ]
    },
    {
      "cell_type": "markdown",
      "source": [
        "2. Faça um programa que calcule o mostre a média aritmética de N notas."
      ],
      "metadata": {
        "id": "4y6ioTHIMmj1"
      }
    },
    {
      "cell_type": "code",
      "source": [
        "soma=0\n",
        "contador= 0\n",
        "\n",
        "nValores=int(input(\"Digite o numero de valores para calcular a média :\"))\n",
        "\n",
        "while contador<nValores:\n",
        "  nota=float(input(f\"Digite a nota {contador+1} :\"))\n",
        "  soma+=nota\n",
        "  contador+=1\n",
        "\n",
        "media=soma/contador\n",
        "\n",
        "print(f\"\\nA média das {nValores} notas é {media:.2f}\")"
      ],
      "metadata": {
        "colab": {
          "base_uri": "https://localhost:8080/"
        },
        "id": "cPWYblSVR54d",
        "outputId": "2fe92e59-38cb-49cf-8de8-7088909be60e"
      },
      "execution_count": null,
      "outputs": [
        {
          "output_type": "stream",
          "name": "stdout",
          "text": [
            "Digite o numero de valores para calcular a média :2\n",
            "Digite a nota 1 :10\n",
            "Digite a nota 2 :5\n",
            "\n",
            "A média das 2 notas é 7.50\n"
          ]
        }
      ]
    },
    {
      "cell_type": "markdown",
      "source": [
        "\n",
        "3. Faça um programa que leia um nome de usuário e a sua senha e não aceite a\n",
        "senha igual ao nome do usuário, mostrando uma mensagem de erro e voltando a\n",
        "pedir as informações."
      ],
      "metadata": {
        "id": "r8rRayEaMtQt"
      }
    },
    {
      "cell_type": "code",
      "source": [
        "usuario=str(input(\"Digite o nome de usuário: \"))\n",
        "senha=str(input(\"Digite a senha: \"))\n",
        "\n",
        "while usuario==senha:\n",
        "  print(\"Erro: A senha não pode ser igual ao nome de usuário. Por favor, digite uma senha diferente.\")\n",
        "  senha=str(input(\"Digite uma nova senha: \"))\n",
        "\n",
        "print(\"Cadastro realizado com sucesso!\")\n",
        "print(f\"Nome de usuário: {usuario}\")\n",
        "print(f\"Senha : {senha}\")\n",
        "\n",
        "'''\n",
        "import getpass\n",
        "\n",
        "# Loop para solicitar nome de usuário\n",
        "while True:\n",
        "    nome_usuario = input(\"Digite seu nome de usuário: \")\n",
        "    if nome_usuario.strip() != \"\":  # Garante que o nome de usuário não seja vazio ou apenas espaços\n",
        "        break\n",
        "    else:\n",
        "        print(\"O nome de usuário não pode ser vazio. Por favor, digite novamente.\")\n",
        "\n",
        "# Loop para solicitar a senha e validar se é diferente do nome de usuário\n",
        "while True:\n",
        "    # Usamos getpass.getpass() para ocultar a digitação da senha\n",
        "    senha = getpass.getpass(prompt=\"Digite sua senha: \")\n",
        "\n",
        "    if senha.strip() == \"\":\n",
        "        print(\"A senha não pode ser vazia. Por favor, digite novamente.\")\n",
        "    elif senha == nome_usuario:\n",
        "        print(\"Erro: A senha não pode ser igual ao nome de usuário. Por favor, digite uma senha diferente.\")\n",
        "    else:\n",
        "        print(\"Cadastro realizado com sucesso!\")\n",
        "        break # Sai do loop se a senha for válida e diferente do nome de usuário\n",
        "\n",
        "print(f\"Nome de usuário: {nome_usuario}\")\n",
        "# Em um sistema real, você não exibiria a senha.\n",
        "# Estamos exibindo aqui apenas para fins de demonstração que ela foi capturada.\n",
        "print(f\"Senha : {senha}\")\n",
        "'''"
      ],
      "metadata": {
        "colab": {
          "base_uri": "https://localhost:8080/"
        },
        "id": "L-buq4p1NmyG",
        "outputId": "02a62c1d-08a1-4c1e-b69c-bb982f52d92b"
      },
      "execution_count": null,
      "outputs": [
        {
          "output_type": "stream",
          "name": "stdout",
          "text": [
            "Digite seu nome de usuário: Pabline\n",
            "Digite sua senha: ··········\n",
            "Erro: A senha não pode ser igual ao nome de usuário. Por favor, digite uma senha diferente.\n",
            "Digite sua senha: ··········\n",
            "Cadastro realizado com sucesso!\n",
            "Nome de usuário: Pabline\n",
            "Senha : pabline\n"
          ]
        }
      ]
    },
    {
      "cell_type": "markdown",
      "source": [
        "\n",
        "4. Um funcionário de uma empresa recebe aumento salarial anualmente.\n",
        "Sabe-se que: Esse funcionário foi contratado em 1995, com salário inicial de R$ 1.000,00; Em 1996 recebeu aumento de 1,5% sobre seu salário inicial; A partir de 1997 (inclusive), os aumentos salariais sempre correspondem ao dobro do percentual do ano anterior. Faça um programa que determine o salário atual desse\n",
        "funcionário. Após concluir isto, altere o programa permitindo que o usuário digite o salário inicial do funcionário."
      ],
      "metadata": {
        "id": "9qiQDWDPMy1F"
      }
    },
    {
      "cell_type": "code",
      "source": [
        "from ast import arguments\n",
        "salario= float(input(\"Digite o salario inicial : \"))\n",
        "\n",
        "ano= 1996\n",
        "percentual = 1.5/100\n",
        "\n",
        "while ano<=2025:\n",
        "  aumento=salario*percentual\n",
        "  salario+=aumento\n",
        "  percentual*=2 #Dobra o percentual\n",
        "  ano+=1\n",
        "  print(f\"Salario atual em {ano} R${salario:.2f}\")"
      ],
      "metadata": {
        "id": "724fRmt9Nlz9"
      },
      "execution_count": null,
      "outputs": []
    },
    {
      "cell_type": "markdown",
      "source": [
        "\n",
        "5. Faça um programa que leia e valide as seguintes informações:\n",
        "* Nome: maior que 3 caracteres;\n",
        "* Idade: entre 0 e 150;\n",
        "* Salário: maior que zero;\n",
        "* Sexo: 'f' ou 'm';\n",
        "* Estado Civil: 's', 'c', 'v', 'd';\n"
      ],
      "metadata": {
        "id": "1qYfIaQFM3vU"
      }
    },
    {
      "cell_type": "code",
      "source": [
        "nome= str(input(\"Digite o nome de Usuario: \"))\n",
        "\n",
        "\n",
        "\n",
        "\n",
        "\n",
        "while len(nome) <=3:\n",
        "  print(\"Digite no minimo 3 caracteres para nome :\")\n",
        "  nome = input(\"Digite o nome de Usuario: \")\n",
        "\n",
        "idade= int(input(\"Digite a idade: \"))\n",
        "while idade<0 or idade>150:\n",
        "    print(\"Valor invalidado\")\n",
        "    idade=int(input(\"Digite a idade: \"))\n",
        "\n",
        "salario=float(input(\"Digite o salario: \"))\n",
        "while salario<0:\n",
        "    print(\"Valor invalidado\")\n",
        "    salario=float(input(\"Digite o salario maior que 0 : \"))\n",
        "sexo=str(input(\"Digite o sexo: \"))\n",
        "while sexo!=\"f\" and sexo!=\"m\":\n",
        "    print(\"Valor invalidado\")\n",
        "    sexo=str(input(\"Digite o sexo: f ou m \"))\n",
        "estadoCivil=str(input(\"Digite o estado civil: \"))\n",
        "while estadoCivil not in [\"s\",\"c\",\"v\",\"d\"]:\n",
        "    print(\"Valor invalidado\")\n",
        "    estadoCivil=str(input(\"Digite o estado civil: s, c, v, d \"))\n",
        "\n",
        "\n",
        "\n",
        "print(\"Cadastro realizado com sucesso!\")\n",
        "print(f\"Nome: {nome}\")\n",
        "print(f\"Idade: {idade}\")\n",
        "print(f\"Salario: {salario}\")\n",
        "print(f\"Sexo: {sexo}\")\n",
        "print(f\"Estado Civil: {estadoCivil}\")"
      ],
      "metadata": {
        "colab": {
          "base_uri": "https://localhost:8080/"
        },
        "id": "4FfMipPONlUN",
        "outputId": "23e5c9d7-1c05-425b-a8e3-e61f6c38cfe9"
      },
      "execution_count": null,
      "outputs": [
        {
          "output_type": "stream",
          "name": "stdout",
          "text": [
            "Digite o nome de Usuario: Pabline\n",
            "Digite a idade: 35\n",
            "Digite o salario: 1800\n",
            "Digite o sexo: f\n",
            "Digite o estado civil: c\n",
            "Cadastro realizado com sucesso!\n",
            "Nome: Pabline\n",
            "Idade: 35\n",
            "Salario: 1800.0\n",
            "Sexo: f\n",
            "Estado Civil: c\n"
          ]
        }
      ]
    },
    {
      "cell_type": "markdown",
      "source": [
        "6. Supondo que a população de um país A seja da ordem de 80000 habitantes com\n",
        "uma taxa anual de crescimento de 3% e que a população de B seja 200000\n",
        "habitantes com uma taxa de crescimento de 1.5%. Faça um programa que calcule e\n",
        "escreva o número de anos necessários para que a população do país A ultrapasse\n",
        "ou iguale a população do país B, mantidas as taxas de crescimento."
      ],
      "metadata": {
        "id": "ibfFbu-1M8Cd"
      }
    },
    {
      "cell_type": "code",
      "source": [
        "#População Atual\n",
        "paisA= 80000\n",
        "paisB= 200000\n",
        "#Percentual de crescimento populacional\n",
        "taxaA= 0.03\n",
        "taxaB= 0.015\n",
        "ano=0\n",
        "\n",
        "while paisA<paisB:\n",
        "  paisA+=paisA*taxaA\n",
        "  paisB+=paisB*taxaB\n",
        "  ano+=1\n",
        "\n",
        "print(f\"Serão necessários {ano} anos para que a população do país A ultrapasse ou iguale a população do país B.\")"
      ],
      "metadata": {
        "colab": {
          "base_uri": "https://localhost:8080/"
        },
        "id": "pi-MuBEzNlA0",
        "outputId": "c8dc7e0b-2025-4f6e-c62d-b5548e7da557"
      },
      "execution_count": null,
      "outputs": [
        {
          "output_type": "stream",
          "name": "stdout",
          "text": [
            "Serão necessários 63 anos para que a população do país A ultrapasse ou iguale a população do país B.\n"
          ]
        }
      ]
    },
    {
      "cell_type": "markdown",
      "source": [
        "\n",
        "7. Faça um programa que calcule o fatorial de um número inteiro fornecido pelo\n",
        "usuário. Ex.: 5!=5.4.3.2.1=120"
      ],
      "metadata": {
        "id": "b7GyVsPTM_8U"
      }
    },
    {
      "cell_type": "code",
      "source": [
        "numero= int(input(\"Digite um numero inteiro para calcular o fatorial: \"))\n",
        "fatorial=1\n",
        "\n",
        "while numero>0:\n",
        "  fatorial*=numero\n",
        "  numero-=1\n",
        "\n",
        "print(f\"O fatorial de {numero} é {fatorial}\")"
      ],
      "metadata": {
        "colab": {
          "base_uri": "https://localhost:8080/"
        },
        "id": "1ZDkVW63Nkic",
        "outputId": "7c60d162-20ef-474f-b381-b63eb2ba7646"
      },
      "execution_count": null,
      "outputs": [
        {
          "output_type": "stream",
          "name": "stdout",
          "text": [
            "Digite um numero inteiro para calcular o fatorial: 3\n",
            "O fatorial de 0 é 6\n"
          ]
        }
      ]
    },
    {
      "cell_type": "markdown",
      "source": [
        "\n",
        "8. Faça um programa que solicite ao usuário números indefinidamente até que ele\n",
        "digite 0. Em seguida, o programa deve imprimir a média dos números digitados."
      ],
      "metadata": {
        "id": "ZPLa8posNDd1"
      }
    },
    {
      "cell_type": "code",
      "source": [
        "quantidade=0\n",
        "soma=0\n",
        "\n",
        "while True:\n",
        "  numero= float(input(\"Digite um numero(ou 0 para sair):\"))\n",
        "  if numero==0:\n",
        "    break\n",
        "  soma+=numero\n",
        "  quantidade+=1\n",
        "\n",
        "if quantidade>0:\n",
        "  media=soma/quantidade\n",
        "  print(f\"A média dos números digitados é {media}\")\n",
        "\n",
        "else:\n",
        " print(\"Nenhum numero foi digitado. \")\n",
        "\n"
      ],
      "metadata": {
        "id": "eGtkB6_uNkJM",
        "colab": {
          "base_uri": "https://localhost:8080/"
        },
        "outputId": "535c442b-a70d-4584-d821-6f2e1f8ffaef"
      },
      "execution_count": 7,
      "outputs": [
        {
          "output_type": "stream",
          "name": "stdout",
          "text": [
            "Digite um numero(ou 0 para sair):3\n",
            "Digite um numero(ou 0 para sair):4\n",
            "Digite um numero(ou 0 para sair):5\n",
            "Digite um numero(ou 0 para sair):0\n",
            "A média dos números digitados é 4.0\n"
          ]
        }
      ]
    },
    {
      "cell_type": "markdown",
      "source": [
        "\n",
        "9. A série de Fibonacci é formada pela sequência 1,1,2,3,5,8,13,21,34,55,... Faça um\n",
        "programa capaz de gerar a série até o n−ésimo termo.\n"
      ],
      "metadata": {
        "id": "L2PWB9KONHJF"
      }
    },
    {
      "cell_type": "code",
      "source": [
        "#Solicitar o numero de termos\n",
        "\n",
        "numero = int(input(\"Digite a quantidade de numeros da sequencia Fibonacci :\"))\n",
        "\n",
        "a,b= 1, 1\n",
        "contador=0\n",
        "\n",
        "print(\"Sequencia de Fibonacci: \")\n",
        "\n",
        "while contador<numero:\n",
        "  print(a, end='')\n",
        "  a,b= b, a + b\n",
        "  contador+=1\n",
        "  if contador<numero:\n",
        "    print(\", \", end='')"
      ],
      "metadata": {
        "id": "4DbUmpV5NjxU",
        "colab": {
          "base_uri": "https://localhost:8080/"
        },
        "outputId": "a2e130aa-dbf2-4f7d-f614-edf57931a596"
      },
      "execution_count": 11,
      "outputs": [
        {
          "output_type": "stream",
          "name": "stdout",
          "text": [
            "Digite a quantidade de numeros da sequencia Fibonacci :6\n",
            "Sequencia de Fibonacci: \n",
            "1, 1, 2, 3, 5, 8"
          ]
        }
      ]
    },
    {
      "cell_type": "markdown",
      "source": [
        "\n",
        "10. O Sr. Manoel Joaquim expandiu seus negócios para além dos negócios de 1,99 e\n",
        "agora possui uma loja de conveniências. Faça um programa que implemente uma\n",
        "caixa registradora rudimentar.\n",
        " O programa deverá receber um número desconhecido de valores referentes\n",
        "aos preços das mercadorias. Um valor zero deve ser informado pelo\n",
        "operador para indicar o final da compra.\n",
        " O programa deve então mostrar o total da compra e perguntar o valor em\n",
        "dinheiro que o cliente forneceu, para então calcular e mostrar o valor do\n",
        "troco. Após esta operação, o programa deverá voltar ao ponto inicial, para\n",
        "registrar a próxima compra.\n",
        " A saída deve ser conforme o exemplo abaixo:\n",
        " Lojas Tabajara\n",
        " Produto 1: R$ 2.20\n",
        " Produto 2: R$ 5.80\n",
        " Produto 3: R$ 0\n",
        " Total: R$ 9.00\n",
        " Dinheiro: R$ 20.00\n",
        " Troco: R$ 11.00"
      ],
      "metadata": {
        "id": "xHfQHWC8NLE9"
      }
    },
    {
      "cell_type": "code",
      "source": [
        "\n",
        "while True: # Loop p/ Registrar várias compras\n",
        "  print(\"\\n Lojas Tabajara\")\n",
        "\n",
        "  total = 0\n",
        "  produto=1 # Contador de produtos\n",
        "  while True:\n",
        "    preco = float(input(f\"Produto {produto}: R$ \"))\n",
        "    if preco == 0:\n",
        "      break\n",
        "    total += preco #Soma o preço ao total\n",
        "    produto += 1 # Incrementa o numero do produto\n",
        "\n",
        "  # Exibe o total da compra\n",
        "  print(f\"\\nTotal: R$ {total:.2f}\")\n",
        "  #Valor pago pelo cliente\n",
        "  dinheiro= float(input(\"Dinheiro: R$ \"))\n",
        "  #Calcula o troco\n",
        "  troco= dinheiro -total\n",
        "  # Exibe o troco\n",
        "  print(f\"Troco: R$ {troco:.2f}\")\n",
        "  continuar = input(\"Deseja fazer outra compra? (s/n): \")\n",
        "  if continuar.lower() != 's':\n",
        "    break\n",
        "  else:\n",
        "    print(\"\\nIniciando nova compra, obrigada!\")\n"
      ],
      "metadata": {
        "id": "xzDrA2iqNjKE",
        "colab": {
          "base_uri": "https://localhost:8080/"
        },
        "outputId": "903df619-fb75-4ba8-994f-3d3cc94442f5"
      },
      "execution_count": 13,
      "outputs": [
        {
          "name": "stdout",
          "output_type": "stream",
          "text": [
            "\n",
            " Lojas Tabajara\n",
            "Produto 1: R$ 10\n",
            "Produto 2: R$ 11\n",
            "Produto 3: R$ 12\n",
            "Produto 4: R$ 13\n",
            "Produto 5: R$ 0\n",
            "\n",
            "Total: R$ 46.00\n",
            "Dinheiro: R$ 50\n",
            "Troco: R$ 4.00\n",
            "Deseja fazer outra compra? (s/n): s\n",
            "Iniciando nova compra, obrigada!\n",
            "\n",
            " Lojas Tabajara\n",
            "Produto 1: R$ 1\n",
            "Produto 2: R$ 2\n",
            "Produto 3: R$ 3\n",
            "Produto 4: R$ 0\n",
            "\n",
            "Total: R$ 6.00\n",
            "Dinheiro: R$ 10\n",
            "Troco: R$ 4.00\n",
            "Deseja fazer outra compra? (s/n): n\n"
          ]
        }
      ]
    },
    {
      "cell_type": "markdown",
      "source": [
        "11. O cardápio de uma lanchonete é o seguinte:\n",
        "Especificação Código Preço\n",
        " Cachorro Quente 100 R$ 1,20\n",
        " Bauru Simples 101 R$ 1,30\n",
        " Bauru com ovo 102 R$ 1,50\n",
        " Hambúrguer 103 R$ 1,20\n",
        " Cheeseburguer 104 R$ 1,30\n",
        " Refrigerante 105 R$ 1,00\n",
        "Faça um programa que leia o código dos itens pedidos e as quantidades desejadas.\n",
        "Calcule e mostre o valor a ser pago por item (preço * quantidade) e o total geral do\n",
        "pedido. Considere que o cliente deve informar quando o pedido deve ser encerrado.\n"
      ],
      "metadata": {
        "id": "I_IwTunqNPKE"
      }
    },
    {
      "cell_type": "code",
      "source": [
        "#Lista com os dados dos produtos\n",
        "codigos=[100,101,102,103,104,105]\n",
        "nomes=[\"Cachorro Quente\",\"Bauru Simples\",\"Bauru com ovo\",\"Hamburguer\",\"Cheeseburguer\",\"Refrigerante\"]\n",
        "precos=[1.20,1.30,1.50,1.20,1.30,1.00]\n",
        "\n",
        "total= 0\n",
        "\n",
        "while True:\n",
        "  print(\"\\nCardápio: \")\n",
        "  for i in range(len(codigos)):\n",
        "    print(f\"{codigos[i]} - {nomes[i]} - R$ {precos[i]:.2f}\")\n",
        "  codigo=int(input(\"Digite o código do produto ou 0 para sair: \"))\n",
        "\n",
        "  if codigo==0:\n",
        "    break\n",
        "  if codigo in codigos:\n",
        "    indice = codigos.index(codigo)\n",
        "    quantidade = int(input(\"Quantidade:\"))\n",
        "\n",
        "    nome = nomes[indice]\n",
        "    preco = precos[indice]\n",
        "\n",
        "    subtotal = preco * quantidade\n",
        "    total += subtotal\n",
        "\n",
        "    print(f\"{nome} - {quantidade} X R${preco:.2f} = R${subtotal:.2f}\")\n",
        "  else:\n",
        "    print(\"Código inválido! Tente novamente: \")\n",
        "\n",
        "print(f\"\\nTotal a pagar : R${total:.2f}\")\n",
        "print(\"Obrigado pela preferencia!\")"
      ],
      "metadata": {
        "id": "GStxROH9Nifl",
        "colab": {
          "base_uri": "https://localhost:8080/"
        },
        "outputId": "fa4ff01d-3bfb-4234-c147-3973a6212584"
      },
      "execution_count": 18,
      "outputs": [
        {
          "output_type": "stream",
          "name": "stdout",
          "text": [
            "\n",
            "Cardápio: \n",
            "100 - Cachorro Quente - R$ 1.20\n",
            "101 - Bauru Simples - R$ 1.30\n",
            "102 - Bauru com ovo - R$ 1.50\n",
            "103 - Hamburguer - R$ 1.20\n",
            "104 - Cheeseburguer - R$ 1.30\n",
            "105 - Refrigerante - R$ 1.00\n",
            "Digite o código do produto ou 0 para sair: 100\n",
            "Quantidade:1\n",
            "Cachorro Quente - 1 X R$1.20 = R$1.20\n",
            "\n",
            "Cardápio: \n",
            "100 - Cachorro Quente - R$ 1.20\n",
            "101 - Bauru Simples - R$ 1.30\n",
            "102 - Bauru com ovo - R$ 1.50\n",
            "103 - Hamburguer - R$ 1.20\n",
            "104 - Cheeseburguer - R$ 1.30\n",
            "105 - Refrigerante - R$ 1.00\n",
            "Digite o código do produto ou 0 para sair: 0\n",
            "\n",
            "Total a pagar : R$1.20\n",
            "Obrigado pela preferencia!\n"
          ]
        }
      ]
    },
    {
      "cell_type": "markdown",
      "source": [
        "12. Em uma eleição presidencial existem quatro candidatos. Os votos são informados\n",
        "por meio de código.\n",
        "Os códigos utilizados são:\n",
        " 1, 2, 3, 4 - Votos para os respectivos candidatos\n",
        " (você deve montar a tabela ex: 1 - Jose/ 2- João/etc)\n",
        " 5 - Voto Nulo\n",
        " 6 - Voto em Branco\n",
        "Faça um programa que calcule e mostre:\n",
        " O total de votos para cada candidato;\n",
        " O total de votos nulos;\n",
        " O total de votos em branco;\n",
        " A percentagem de votos nulos sobre o total de votos;\n",
        " A percentagem de votos em branco sobre o total de votos.\n",
        "Para finalizar o conjunto de votos tem-se o valor zero."
      ],
      "metadata": {
        "id": "7Fl0M-kHNW9V"
      }
    },
    {
      "cell_type": "code",
      "source": [
        "jose = joao = maria = ana = nulo = branco = 0\n",
        "\n",
        "print(\"1 - José\")\n",
        "print(\"2 - João\")\n",
        "print(\"3 - Maria\")\n",
        "print(\"4 - Ana\")\n",
        "print(\"5 - Nulo\")\n",
        "print(\"6 - Branco\")\n",
        "print(\"0 - Fim\")\n",
        "\n",
        "\n",
        "while True:\n",
        "  voto = int(input(\"Digite seu voto: \"))\n",
        "\n",
        "  if voto == 0:\n",
        "    break\n",
        "  elif voto == 1:\n",
        "    jose += 1\n",
        "  elif voto == 2:\n",
        "    joao += 1\n",
        "  elif voto == 3:\n",
        "    maria += 1\n",
        "  elif voto == 4:\n",
        "    ana += 1\n",
        "  elif voto == 5:\n",
        "    nulo += 1\n",
        "  elif voto == 6:\n",
        "    branco += 1\n",
        "  else:\n",
        "    print(\"Voto inválido\")\n",
        "\n",
        "total = jose + joao + maria + ana + nulo + branco\n",
        "\n",
        "if total > 0:\n",
        "  porcentagem_nulo = (nulo / total)* 100\n",
        "  porcentagem_branco = (branco / total) * 100\n",
        "else:\n",
        "  porcentagem_nulo = porcentagem_branco = 0\n",
        "\n",
        "print(\"\\nResultado\")\n",
        "print(f\"José: {jose}\")\n",
        "print(f\"João: {joao}\")\n",
        "print(f\"Maria {maria}\")\n",
        "print(f\"Ana: {ana}\")\n",
        "print(f\"Nulos: {nulo}\")\n",
        "print(f\"Brancos: {branco}\")\n",
        "print(f\"% Nulos: {porcentagem_nulo:.2f}%\")\n",
        "print(f\"% Brancos: {porcentagem_branco:.2f}%\")"
      ],
      "metadata": {
        "id": "GLEnbJo2Nh3N"
      },
      "execution_count": null,
      "outputs": []
    },
    {
      "cell_type": "markdown",
      "source": [],
      "metadata": {
        "id": "cRwplG6R2WNS"
      }
    }
  ]
}