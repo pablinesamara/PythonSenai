{
  "nbformat": 4,
  "nbformat_minor": 0,
  "metadata": {
    "colab": {
      "provenance": [],
      "authorship_tag": "ABX9TyOUvI+Ocs9CfqI/fY7QCgvH",
      "include_colab_link": true
    },
    "kernelspec": {
      "name": "python3",
      "display_name": "Python 3"
    },
    "language_info": {
      "name": "python"
    }
  },
  "cells": [
    {
      "cell_type": "markdown",
      "metadata": {
        "id": "view-in-github",
        "colab_type": "text"
      },
      "source": [
        "<a href=\"https://colab.research.google.com/github/pablinesamara/PythonSenai/blob/main/ExercicioForPython.ipynb\" target=\"_parent\"><img src=\"https://colab.research.google.com/assets/colab-badge.svg\" alt=\"Open In Colab\"/></a>"
      ]
    },
    {
      "cell_type": "markdown",
      "source": [
        "1. Um engenheiro precisa contar os tijolos empilhados de 1 até 100. Crie um\n",
        "programa que mostre essa contagem."
      ],
      "metadata": {
        "id": "2QfdSbK57iqQ"
      }
    },
    {
      "cell_type": "code",
      "execution_count": null,
      "metadata": {
        "colab": {
          "base_uri": "https://localhost:8080/"
        },
        "id": "Bm8KcFiQ7Z8z",
        "outputId": "cb1702c5-3780-46d7-e5d5-13fcd833d63e",
        "collapsed": true
      },
      "outputs": [
        {
          "output_type": "stream",
          "name": "stdout",
          "text": [
            "Tijolos:  1\n",
            "Tijolos:  2\n",
            "Tijolos:  3\n",
            "Tijolos:  4\n",
            "Tijolos:  5\n",
            "Tijolos:  6\n",
            "Tijolos:  7\n",
            "Tijolos:  8\n",
            "Tijolos:  9\n",
            "Tijolos:  10\n",
            "Tijolos:  11\n",
            "Tijolos:  12\n",
            "Tijolos:  13\n",
            "Tijolos:  14\n",
            "Tijolos:  15\n",
            "Tijolos:  16\n",
            "Tijolos:  17\n",
            "Tijolos:  18\n",
            "Tijolos:  19\n",
            "Tijolos:  20\n",
            "Tijolos:  21\n",
            "Tijolos:  22\n",
            "Tijolos:  23\n",
            "Tijolos:  24\n",
            "Tijolos:  25\n",
            "Tijolos:  26\n",
            "Tijolos:  27\n",
            "Tijolos:  28\n",
            "Tijolos:  29\n",
            "Tijolos:  30\n",
            "Tijolos:  31\n",
            "Tijolos:  32\n",
            "Tijolos:  33\n",
            "Tijolos:  34\n",
            "Tijolos:  35\n",
            "Tijolos:  36\n",
            "Tijolos:  37\n",
            "Tijolos:  38\n",
            "Tijolos:  39\n",
            "Tijolos:  40\n",
            "Tijolos:  41\n",
            "Tijolos:  42\n",
            "Tijolos:  43\n",
            "Tijolos:  44\n",
            "Tijolos:  45\n",
            "Tijolos:  46\n",
            "Tijolos:  47\n",
            "Tijolos:  48\n",
            "Tijolos:  49\n",
            "Tijolos:  50\n",
            "Tijolos:  51\n",
            "Tijolos:  52\n",
            "Tijolos:  53\n",
            "Tijolos:  54\n",
            "Tijolos:  55\n",
            "Tijolos:  56\n",
            "Tijolos:  57\n",
            "Tijolos:  58\n",
            "Tijolos:  59\n",
            "Tijolos:  60\n",
            "Tijolos:  61\n",
            "Tijolos:  62\n",
            "Tijolos:  63\n",
            "Tijolos:  64\n",
            "Tijolos:  65\n",
            "Tijolos:  66\n",
            "Tijolos:  67\n",
            "Tijolos:  68\n",
            "Tijolos:  69\n",
            "Tijolos:  70\n",
            "Tijolos:  71\n",
            "Tijolos:  72\n",
            "Tijolos:  73\n",
            "Tijolos:  74\n",
            "Tijolos:  75\n",
            "Tijolos:  76\n",
            "Tijolos:  77\n",
            "Tijolos:  78\n",
            "Tijolos:  79\n",
            "Tijolos:  80\n",
            "Tijolos:  81\n",
            "Tijolos:  82\n",
            "Tijolos:  83\n",
            "Tijolos:  84\n",
            "Tijolos:  85\n",
            "Tijolos:  86\n",
            "Tijolos:  87\n",
            "Tijolos:  88\n",
            "Tijolos:  89\n",
            "Tijolos:  90\n",
            "Tijolos:  91\n",
            "Tijolos:  92\n",
            "Tijolos:  93\n",
            "Tijolos:  94\n",
            "Tijolos:  95\n",
            "Tijolos:  96\n",
            "Tijolos:  97\n",
            "Tijolos:  98\n",
            "Tijolos:  99\n",
            "Tijolos:  100\n"
          ]
        }
      ],
      "source": [
        "tijolos= 0\n",
        "for cont in range(100):\n",
        "  tijolos+=1\n",
        "  print(\"Tijolos: \",tijolos)\n"
      ]
    },
    {
      "cell_type": "markdown",
      "source": [
        "2. Um pintor pinta postes de luz e pinta apenas os de número par. Mostre\n",
        "quais postes de 1 a 50 ele irá pintar."
      ],
      "metadata": {
        "id": "nU2nmLeB7mj3"
      }
    },
    {
      "cell_type": "code",
      "source": [
        "pintar =0\n",
        "for postes in range (1,51):\n",
        "\n",
        "  if postes %2 == 0:\n",
        "    pintar+=1\n",
        "    print(\"Pintar poste numero : \", postes)\n",
        "\n",
        "print(\"Pintar : \",pintar,\"postes\")"
      ],
      "metadata": {
        "colab": {
          "base_uri": "https://localhost:8080/"
        },
        "id": "FOCzU0XY7rkn",
        "outputId": "c25148e2-49d1-42a4-a9f3-883cd7bd797c",
        "collapsed": true
      },
      "execution_count": null,
      "outputs": [
        {
          "output_type": "stream",
          "name": "stdout",
          "text": [
            "Pintar poste numero :  2\n",
            "Pintar poste numero :  4\n",
            "Pintar poste numero :  6\n",
            "Pintar poste numero :  8\n",
            "Pintar poste numero :  10\n",
            "Pintar poste numero :  12\n",
            "Pintar poste numero :  14\n",
            "Pintar poste numero :  16\n",
            "Pintar poste numero :  18\n",
            "Pintar poste numero :  20\n",
            "Pintar poste numero :  22\n",
            "Pintar poste numero :  24\n",
            "Pintar poste numero :  26\n",
            "Pintar poste numero :  28\n",
            "Pintar poste numero :  30\n",
            "Pintar poste numero :  32\n",
            "Pintar poste numero :  34\n",
            "Pintar poste numero :  36\n",
            "Pintar poste numero :  38\n",
            "Pintar poste numero :  40\n",
            "Pintar poste numero :  42\n",
            "Pintar poste numero :  44\n",
            "Pintar poste numero :  46\n",
            "Pintar poste numero :  48\n",
            "Pintar poste numero :  50\n",
            "Pintar :  25 postes\n"
          ]
        }
      ]
    },
    {
      "cell_type": "markdown",
      "source": [
        "3. Numa maratona, os participantes com número ímpar recebem um kit\n",
        "especial. Mostre todos os números ímpares de 1 a 100.\n"
      ],
      "metadata": {
        "id": "dwAsIIFV7y-f"
      }
    },
    {
      "cell_type": "code",
      "source": [
        "participantesImpar =0\n",
        "for participantes in range (1,100):\n",
        "\n",
        "  if participantes %2 != 0:\n",
        "    participantesImpar+=1\n",
        "    print(\"Kit Especial para nº : \", participantes)"
      ],
      "metadata": {
        "colab": {
          "base_uri": "https://localhost:8080/"
        },
        "id": "m_cxJ1Vk7yaf",
        "outputId": "4315e150-9920-48b1-8c61-ebc223766855",
        "collapsed": true
      },
      "execution_count": 1,
      "outputs": [
        {
          "output_type": "stream",
          "name": "stdout",
          "text": [
            "Kit Especial para nº :  1\n",
            "Kit Especial para nº :  3\n",
            "Kit Especial para nº :  5\n",
            "Kit Especial para nº :  7\n",
            "Kit Especial para nº :  9\n",
            "Kit Especial para nº :  11\n",
            "Kit Especial para nº :  13\n",
            "Kit Especial para nº :  15\n",
            "Kit Especial para nº :  17\n",
            "Kit Especial para nº :  19\n",
            "Kit Especial para nº :  21\n",
            "Kit Especial para nº :  23\n",
            "Kit Especial para nº :  25\n",
            "Kit Especial para nº :  27\n",
            "Kit Especial para nº :  29\n",
            "Kit Especial para nº :  31\n",
            "Kit Especial para nº :  33\n",
            "Kit Especial para nº :  35\n",
            "Kit Especial para nº :  37\n",
            "Kit Especial para nº :  39\n",
            "Kit Especial para nº :  41\n",
            "Kit Especial para nº :  43\n",
            "Kit Especial para nº :  45\n",
            "Kit Especial para nº :  47\n",
            "Kit Especial para nº :  49\n",
            "Kit Especial para nº :  51\n",
            "Kit Especial para nº :  53\n",
            "Kit Especial para nº :  55\n",
            "Kit Especial para nº :  57\n",
            "Kit Especial para nº :  59\n",
            "Kit Especial para nº :  61\n",
            "Kit Especial para nº :  63\n",
            "Kit Especial para nº :  65\n",
            "Kit Especial para nº :  67\n",
            "Kit Especial para nº :  69\n",
            "Kit Especial para nº :  71\n",
            "Kit Especial para nº :  73\n",
            "Kit Especial para nº :  75\n",
            "Kit Especial para nº :  77\n",
            "Kit Especial para nº :  79\n",
            "Kit Especial para nº :  81\n",
            "Kit Especial para nº :  83\n",
            "Kit Especial para nº :  85\n",
            "Kit Especial para nº :  87\n",
            "Kit Especial para nº :  89\n",
            "Kit Especial para nº :  91\n",
            "Kit Especial para nº :  93\n",
            "Kit Especial para nº :  95\n",
            "Kit Especial para nº :  97\n",
            "Kit Especial para nº :  99\n"
          ]
        }
      ]
    },
    {
      "cell_type": "markdown",
      "source": [
        "4. Cinco amigos fizeram uma vaquinha. Crie um programa que leia quanto\n",
        "cada um contribuiu e, no final, mostre a soma total e a média.\n"
      ],
      "metadata": {
        "id": "CCKvKIsV75pP"
      }
    },
    {
      "cell_type": "code",
      "source": [
        "1total_contribuicao = 0\n",
        "numero_amigos = 5\n",
        "\n",
        "for i in range(numero_amigos):\n",
        "  contribuicao = float(input(f\"Contribuição Amigo {i+1} valor R$ :\"))\n",
        "  total_contribuicao += contribuicao\n",
        "\n",
        "media_contribuicoes = total_contribuicao / numero_amigos\n",
        "\n",
        "print(\"\\nSoma total das contribuições: R$\", total_contribuicao)\n",
        "print(\"Média das contribuições: R$\", media_contribuicoes)"
      ],
      "metadata": {
        "colab": {
          "base_uri": "https://localhost:8080/"
        },
        "id": "4JIaJARk8cg3",
        "outputId": "023ca64d-2e51-4059-bc17-2a0ae45dffee"
      },
      "execution_count": 2,
      "outputs": [
        {
          "output_type": "stream",
          "name": "stdout",
          "text": [
            "Contribuição Amigo 1 valor R$ :10\n",
            "Contribuição Amigo 2 valor R$ :11\n",
            "Contribuição Amigo 3 valor R$ :12\n",
            "Contribuição Amigo 4 valor R$ :13\n",
            "Contribuição Amigo 5 valor R$ :14\n",
            "\n",
            "Soma total das contribuições: R$ 60.0\n",
            "Média das contribuições: R$ 12.0\n"
          ]
        }
      ]
    },
    {
      "cell_type": "markdown",
      "source": [
        "5. Em um bingo, foram sorteados 10 números. Mostre quantos foram pares\n",
        "e quantos foram ímpares.\n"
      ],
      "metadata": {
        "id": "N3LlMx5A785_"
      }
    },
    {
      "cell_type": "code",
      "source": [
        "par=0\n",
        "impar=0\n",
        "for sorteados in range(10):\n",
        "  numeroSorteado=int(input(\"Digite o numero sorteado: \"))\n",
        "  if numeroSorteado%2!=0:\n",
        "    impar+=1\n",
        "  else:\n",
        "    par+=1\n",
        "print(\"Numeros sorteados impar: \",impar)\n",
        "print(\"Numeros sorteados Par: \",par)"
      ],
      "metadata": {
        "colab": {
          "base_uri": "https://localhost:8080/"
        },
        "id": "fYmY17Js8dBX",
        "outputId": "8c52012b-6028-4e5f-f418-e93e37cb10eb",
        "collapsed": true
      },
      "execution_count": null,
      "outputs": [
        {
          "output_type": "stream",
          "name": "stdout",
          "text": [
            "Digite o numero sorteado: 1\n",
            "Digite o numero sorteado: 2\n",
            "Digite o numero sorteado: 3\n",
            "Digite o numero sorteado: 4\n",
            "Digite o numero sorteado: 5\n",
            "Digite o numero sorteado: 6\n",
            "Digite o numero sorteado: 7\n",
            "Digite o numero sorteado: 8\n",
            "Digite o numero sorteado: 9\n",
            "Digite o numero sorteado: 10\n",
            "impar:  5\n",
            "Par:  5\n"
          ]
        }
      ]
    },
    {
      "cell_type": "markdown",
      "source": [
        "6. Um estudante está treinando multiplicação. Peça um número e mostre a\n",
        "tabuada dele de 1 a 10.\n"
      ],
      "metadata": {
        "id": "nRfh4-Ce8Arf"
      }
    },
    {
      "cell_type": "code",
      "source": [
        "numeroUsuario= int (input(\"Digte o numero: \"))\n",
        "for contador in range(1,11):\n",
        "  resultado =numeroUsuario*contador\n",
        "  print(f\"{numeroUsuario} x {contador} = {resultado}\")\n",
        "\n"
      ],
      "metadata": {
        "colab": {
          "base_uri": "https://localhost:8080/"
        },
        "id": "HBtvEgjn8djn",
        "outputId": "c91d0a71-68ab-4796-9845-0c2dca46d9e9"
      },
      "execution_count": 5,
      "outputs": [
        {
          "output_type": "stream",
          "name": "stdout",
          "text": [
            "Digte o numero: 1\n",
            "1 x 1 = 1\n",
            "1 x 2 = 2\n",
            "1 x 3 = 3\n",
            "1 x 4 = 4\n",
            "1 x 5 = 5\n",
            "1 x 6 = 6\n",
            "1 x 7 = 7\n",
            "1 x 8 = 8\n",
            "1 x 9 = 9\n",
            "1 x 10 = 10\n"
          ]
        }
      ]
    },
    {
      "cell_type": "markdown",
      "source": [
        "7. Uma escola quer imprimir todas as tabuadas de 1 a 10. Crie um programa\n",
        "que mostre as tabuadas organizadas.\n"
      ],
      "metadata": {
        "id": "1Hb7bK2n8DOP"
      }
    },
    {
      "cell_type": "code",
      "source": [
        "for contador in range(1,11):\n",
        "  print(\"Tabuada do \", contador)\n",
        "  for i in range(1,11):\n",
        "    print(contador,\"x\",i,\"=\", contador*i)\n",
        "  print()"
      ],
      "metadata": {
        "id": "LMg5DRPr8d-v"
      },
      "execution_count": null,
      "outputs": []
    },
    {
      "cell_type": "markdown",
      "source": [
        "8. Numa trilha, há placas numeradas de 1 a 20. Mostre os números, primeiro\n",
        "um abaixo do outro, depois lado a lado.\n"
      ],
      "metadata": {
        "id": "lz11oBx98Fw_"
      }
    },
    {
      "cell_type": "code",
      "source": [
        "for cont in range(1,21):\n",
        "    print(cont)\n",
        "for cont2 in range(1,21):\n",
        "    print(cont2, end=\" \")"
      ],
      "metadata": {
        "id": "oIhtm_oa8ebH",
        "colab": {
          "base_uri": "https://localhost:8080/"
        },
        "outputId": "f00667cd-6e2a-4529-dcba-57056f6701b8"
      },
      "execution_count": 8,
      "outputs": [
        {
          "output_type": "stream",
          "name": "stdout",
          "text": [
            "1\n",
            "2\n",
            "3\n",
            "4\n",
            "5\n",
            "6\n",
            "7\n",
            "8\n",
            "9\n",
            "10\n",
            "11\n",
            "12\n",
            "13\n",
            "14\n",
            "15\n",
            "16\n",
            "17\n",
            "18\n",
            "19\n",
            "20\n",
            "1 2 3 4 5 6 7 8 9 10 11 12 13 14 15 16 17 18 19 20 "
          ]
        }
      ]
    },
    {
      "cell_type": "markdown",
      "source": [
        "9. Uma biblioteca quer listar apenas os livros com ID ímpar entre 1 e 50. Crie\n",
        "esse programa.\n"
      ],
      "metadata": {
        "id": "Ww9ZwKF08KEX"
      }
    },
    {
      "cell_type": "code",
      "source": [
        "\n",
        "for iD in range(1,51):\n",
        "  if iD%2!=0:\n",
        "    print(\"ID impar: \",iD)\n",
        "\n",
        "\n"
      ],
      "metadata": {
        "id": "9yyW-Y6K8e5v",
        "colab": {
          "base_uri": "https://localhost:8080/"
        },
        "outputId": "cba290c4-5a62-43c9-e772-1b9e40ebf5fc"
      },
      "execution_count": 14,
      "outputs": [
        {
          "output_type": "stream",
          "name": "stdout",
          "text": [
            "ID impar:  1\n",
            "ID impar:  3\n",
            "ID impar:  5\n",
            "ID impar:  7\n",
            "ID impar:  9\n",
            "ID impar:  11\n",
            "ID impar:  13\n",
            "ID impar:  15\n",
            "ID impar:  17\n",
            "ID impar:  19\n",
            "ID impar:  21\n",
            "ID impar:  23\n",
            "ID impar:  25\n",
            "ID impar:  27\n",
            "ID impar:  29\n",
            "ID impar:  31\n",
            "ID impar:  33\n",
            "ID impar:  35\n",
            "ID impar:  37\n",
            "ID impar:  39\n",
            "ID impar:  41\n",
            "ID impar:  43\n",
            "ID impar:  45\n",
            "ID impar:  47\n",
            "ID impar:  49\n"
          ]
        }
      ]
    },
    {
      "cell_type": "markdown",
      "source": [
        "10.Crie um programa que leia dois números inteiros e mostre todos os\n",
        "números inteiros entre eles.\n"
      ],
      "metadata": {
        "id": "OkyLrBP58NEf"
      }
    },
    {
      "cell_type": "code",
      "source": [
        "num1 = int(input(\"Digite um numero inteiro: \"))\n",
        "num2 = int(input(\"Digite o 2º numero inteiro: \"))\n",
        "\n",
        "menor= min(num1, num2)\n",
        "maior= max(num1,num2)\n",
        "\n",
        "for i in range(menor+1, maior):\n",
        "    print(i)"
      ],
      "metadata": {
        "id": "QW-TzWHV8fjH",
        "colab": {
          "base_uri": "https://localhost:8080/"
        },
        "outputId": "9e4a8fda-d136-4235-c8d5-41f21847f109"
      },
      "execution_count": 16,
      "outputs": [
        {
          "output_type": "stream",
          "name": "stdout",
          "text": [
            "Digite um numero inteiro: 1\n",
            "Digite o 2º numero inteiro: 5\n",
            "2\n",
            "3\n",
            "4\n"
          ]
        }
      ]
    },
    {
      "cell_type": "markdown",
      "source": [
        "11.Uma loja cadastrou 5 vendas. Ela quer saber se faturou mais que\n",
        "R$54.000. Informe e, se ultrapassou, mostre quanto ultrapassou.\n"
      ],
      "metadata": {
        "id": "RAW7nwQD8RPw"
      }
    },
    {
      "cell_type": "code",
      "source": [
        "faturamento = 0\n",
        "for c in range(1,6): #Cadastro de 5 clientes\n",
        "  venda = float(input(f\"Digite o valor da compra do Cliente: {c}\"))\n",
        "  faturamento += venda #Atribui vendas na variavel\n",
        "#Verifica se o faturamento superou 54000\n",
        "if faturamento >54000:\n",
        "  diferenca= faturamento-54000\n",
        "  print(f\"O Faturamento superou a loja B em R${diferenca:.27}\")\n",
        "else:\n",
        "  print(\"O Faturamentos Não superou a loja B\")"
      ],
      "metadata": {
        "id": "bu4uq4o68gCP",
        "colab": {
          "base_uri": "https://localhost:8080/"
        },
        "outputId": "060da656-e498-4dfb-de1b-a28386f5aba5"
      },
      "execution_count": 17,
      "outputs": [
        {
          "output_type": "stream",
          "name": "stdout",
          "text": [
            "Digite o valor da compra do Cliente: 110000\n",
            "Digite o valor da compra do Cliente: 220000\n",
            "Digite o valor da compra do Cliente: 330000\n",
            "Digite o valor da compra do Cliente: 450000\n",
            "Digite o valor da compra do Cliente: 560000\n",
            "O Faturamento superou a loja B em R$116000.0\n"
          ]
        }
      ]
    },
    {
      "cell_type": "markdown",
      "source": [
        "12.Robôs numerados de 2 a 20 fazem uma corrida, mas só podem andar de\n",
        "dois em dois. Mostre os números dos robôs correndo.\n"
      ],
      "metadata": {
        "id": "KSNYlrgc8T1n"
      }
    },
    {
      "cell_type": "code",
      "source": [
        "robosCorrendo=0\n",
        "for robos in range(2,21):\n",
        "  if robos %2 ==0:\n",
        "    print(\"Robo numero par : \",robos)\n",
        "    robosCorrendo+=1\n",
        "print(\"Robos Correndo em pares: \",robosCorrendo)"
      ],
      "metadata": {
        "id": "kct-DbpI8gd_",
        "colab": {
          "base_uri": "https://localhost:8080/"
        },
        "outputId": "336df0d1-6921-4a5b-d087-d281857a2cdb"
      },
      "execution_count": 25,
      "outputs": [
        {
          "output_type": "stream",
          "name": "stdout",
          "text": [
            "Robo numero par :  2\n",
            "Robo numero par :  4\n",
            "Robo numero par :  6\n",
            "Robo numero par :  8\n",
            "Robo numero par :  10\n",
            "Robo numero par :  12\n",
            "Robo numero par :  14\n",
            "Robo numero par :  16\n",
            "Robo numero par :  18\n",
            "Robo numero par :  20\n",
            "Robos Correndo em pares:  10\n"
          ]
        }
      ]
    },
    {
      "cell_type": "markdown",
      "source": [
        "13.No concurso da cidade, os números de inscrição entre 1000 e 2000 que\n",
        "deixam resto 2 ao serem divididos por 11 ganham um brinde. Liste esses\n",
        "números.\n"
      ],
      "metadata": {
        "id": "_dBpE8IT8V1n"
      }
    },
    {
      "cell_type": "code",
      "source": [
        "ganhamBrinde=0\n",
        "for inscritos in range(1000,2001):\n",
        "  if inscritos %11 ==2:\n",
        "    print(\"Nº Ganha brinde : \",inscritos)\n",
        ""
      ],
      "metadata": {
        "id": "ErjVUNuu8hAv"
      },
      "execution_count": null,
      "outputs": []
    },
    {
      "cell_type": "markdown",
      "source": [
        "14.Faça uma contagem regressiva de 10 até 1 e, ao final, exiba \"Lançar\n",
        "Foguete!\".\n"
      ],
      "metadata": {
        "id": "c5BNMvOp8YHX"
      }
    },
    {
      "cell_type": "code",
      "source": [
        "for cont in range(10,0, -1):\n",
        "  print(cont)\n",
        "print(\"********Lançar Foguete!********\")"
      ],
      "metadata": {
        "id": "eVKXPfHY8ho_",
        "colab": {
          "base_uri": "https://localhost:8080/"
        },
        "outputId": "6bea3577-6284-4edb-8e80-e00af063a987"
      },
      "execution_count": 29,
      "outputs": [
        {
          "output_type": "stream",
          "name": "stdout",
          "text": [
            "10\n",
            "9\n",
            "8\n",
            "7\n",
            "6\n",
            "5\n",
            "4\n",
            "3\n",
            "2\n",
            "1\n",
            "********Lançar Foguete!********\n"
          ]
        }
      ]
    },
    {
      "cell_type": "markdown",
      "source": [
        "15.Uma criança guarda moedas diariamente por 30 dias. Peça o valor de\n",
        "cada moeda e mostre o total no cofrinho."
      ],
      "metadata": {
        "id": "5DLydrOi8aR_"
      }
    },
    {
      "cell_type": "code",
      "source": [
        "saldoCofrinho=0\n",
        "for cofrinho in range (1,31):\n",
        "  saldoCofrinho+=float(input(\"Valor adicionado: \"))\n",
        "print(f\"Saldo Cofrinho = R$ {saldoCofrinho:.2f}\")"
      ],
      "metadata": {
        "id": "R2Zjft_G8iOn",
        "colab": {
          "base_uri": "https://localhost:8080/"
        },
        "outputId": "04ecc43a-379f-4a2c-ff79-712118dd921d"
      },
      "execution_count": 32,
      "outputs": [
        {
          "output_type": "stream",
          "name": "stdout",
          "text": [
            "Valor adicionado: 1\n",
            "Valor adicionado: 1\n",
            "Valor adicionado: 1\n",
            "Valor adicionado: 1\n",
            "Valor adicionado: 1\n",
            "Valor adicionado: 1\n",
            "Valor adicionado: 1\n",
            "Valor adicionado: 1\n",
            "Valor adicionado: 1\n",
            "Valor adicionado: 1\n",
            "Valor adicionado: 1\n",
            "Valor adicionado: 1\n",
            "Valor adicionado: 1\n",
            "Valor adicionado: 1\n",
            "Valor adicionado: 1\n",
            "Valor adicionado: 1\n",
            "Valor adicionado: 1\n",
            "Valor adicionado: 1\n",
            "Valor adicionado: 1\n",
            "Valor adicionado: 1\n",
            "Valor adicionado: 1\n",
            "Valor adicionado: 1\n",
            "Valor adicionado: 1\n",
            "Valor adicionado: 1\n",
            "Valor adicionado: 1\n",
            "Valor adicionado: 1\n",
            "Valor adicionado: 1\n",
            "Valor adicionado: 1\n",
            "Valor adicionado: 1\n",
            "Valor adicionado: 1\n",
            "Saldo Cofrinho = R$ 30.00\n"
          ]
        }
      ]
    }
  ]
}