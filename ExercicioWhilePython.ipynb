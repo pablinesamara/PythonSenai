{
  "nbformat": 4,
  "nbformat_minor": 0,
  "metadata": {
    "colab": {
      "provenance": [],
      "authorship_tag": "ABX9TyOFaEh+Vl2T2R3gzW5u2qce",
      "include_colab_link": true
    },
    "kernelspec": {
      "name": "python3",
      "display_name": "Python 3"
    },
    "language_info": {
      "name": "python"
    }
  },
  "cells": [
    {
      "cell_type": "markdown",
      "metadata": {
        "id": "view-in-github",
        "colab_type": "text"
      },
      "source": [
        "<a href=\"https://colab.research.google.com/github/pablinesamara/PythonSenai/blob/main/ExercicioWhilePython.ipynb\" target=\"_parent\"><img src=\"https://colab.research.google.com/assets/colab-badge.svg\" alt=\"Open In Colab\"/></a>"
      ]
    },
    {
      "cell_type": "markdown",
      "source": [
        "DESCRIÇÃO NARRATIVA:\n",
        "*Passo 1. Criar uma variável para receber o valor do salário - S;\n",
        "*Passo 2. Ler um valor da variável S;\n",
        "*Passo 3. Adicionar 100 ao valor de S, implicando o novo resultado de S;\n",
        "*Passo 4. Mostrar o valor de S;\n",
        "*Passo 5. Repetir os passos 2, 3, 4 e 5 até que o valor de S seja igual à 5000"
      ],
      "metadata": {
        "id": "0uLKLi6EPhAJ"
      }
    },
    {
      "cell_type": "code",
      "execution_count": null,
      "metadata": {
        "id": "ZEnYCtb4Ow7f"
      },
      "outputs": [],
      "source": [
        "salario=1000\n",
        "\n",
        "while salario<5000:\n",
        "  salario +=100\n",
        "  print(\"O Salario ainda é R$\", salario)\n"
      ]
    },
    {
      "cell_type": "markdown",
      "source": [
        "Contagem de 1 a 50"
      ],
      "metadata": {
        "id": "JMLcxkjEPaBp"
      }
    },
    {
      "cell_type": "code",
      "source": [
        "numero=int(input(\"Digite um numero menor que 50 : \"))\n",
        "\n",
        "while numero<50:\n",
        "  print(numero,\"<50\")\n",
        "  numero+=1\n",
        ""
      ],
      "metadata": {
        "id": "5uI60pBwPfq4"
      },
      "execution_count": null,
      "outputs": []
    },
    {
      "cell_type": "markdown",
      "source": [
        "Tabuada\n"
      ],
      "metadata": {
        "id": "rQ2VRNmQTPiq"
      }
    },
    {
      "cell_type": "code",
      "source": [
        "numero= int(input(\"Digite um numero: \"))\n",
        "i=1\n",
        "while i<=10:\n",
        "  print(f\"{numero}x{i}={numero*1}\")\n",
        "  i+=1\n"
      ],
      "metadata": {
        "id": "TzbAnpjgSUfF"
      },
      "execution_count": null,
      "outputs": []
    },
    {
      "cell_type": "code",
      "source": [
        "numero=1\n",
        "while numero<10:\n",
        "  print()\n",
        "  print(f\"Tabuada do {numero}\")\n",
        "\n",
        "  i=1\n",
        "  while i <=10:\n",
        "    print(f\"{numero}X{i}={numero*i}\")\n",
        "    i+=1\n",
        "  numero+=1\n",
        "\n",
        ""
      ],
      "metadata": {
        "id": "cPsH5eaWU8P5"
      },
      "execution_count": null,
      "outputs": []
    },
    {
      "cell_type": "code",
      "source": [
        "i = 10\n",
        "while i >=1:\n",
        "  print(i)\n",
        "  i -=1\n",
        "print(\"Feliz Ano Novo 2026\")"
      ],
      "metadata": {
        "colab": {
          "base_uri": "https://localhost:8080/"
        },
        "id": "0_MKQunxX6ih",
        "outputId": "c07926a5-17bf-4997-ed50-a0404e45fa88"
      },
      "execution_count": 20,
      "outputs": [
        {
          "output_type": "stream",
          "name": "stdout",
          "text": [
            "10\n",
            "9\n",
            "8\n",
            "7\n",
            "6\n",
            "5\n",
            "4\n",
            "3\n",
            "2\n",
            "1\n",
            "Feliz Ano Novo 2026\n"
          ]
        }
      ]
    },
    {
      "cell_type": "code",
      "source": [
        "from datetime import datetime\n",
        "\n",
        "while True:\n",
        "  print(\"\\n---Menu---\")\n",
        "  print(\"1 - Dizer Olá\")\n",
        "  print(\"2 - Mostrar a data de hoje\")\n",
        "  print(\"3 - Sair\")\n",
        "\n",
        "  opcao = input(\"Escolha uma opção: \")\n",
        "\n",
        "  if opcao ==\"1\":\n",
        "      print(\"Olá!\")\n",
        "  elif opcao == \"2\":\n",
        "    print(\"Data de hoje: \", datetime.now())\n",
        "  elif opcao ==\"3\":\n",
        "    print(\"Saindo do programa...\")\n",
        "    break\n",
        "  else:\n",
        "    print(\"Opção Invalida\")"
      ],
      "metadata": {
        "colab": {
          "base_uri": "https://localhost:8080/"
        },
        "id": "0J_g8dZnYQZx",
        "outputId": "ee0a9eef-ec65-4859-e71a-7840cca383e0"
      },
      "execution_count": 25,
      "outputs": [
        {
          "output_type": "stream",
          "name": "stdout",
          "text": [
            "\n",
            "---Menu---\n",
            "1 - Dizer Olá\n",
            "2 - Mostrar a data de hoje\n",
            "3 - Sair\n",
            "Escolha uma opção: 1\n",
            "Olá!\n",
            "\n",
            "---Menu---\n",
            "1 - Dizer Olá\n",
            "2 - Mostrar a data de hoje\n",
            "3 - Sair\n",
            "Escolha uma opção: 2\n",
            "Data de hoje:  2025-05-31 00:32:15.088548\n",
            "\n",
            "---Menu---\n",
            "1 - Dizer Olá\n",
            "2 - Mostrar a data de hoje\n",
            "3 - Sair\n",
            "Escolha uma opção: 3\n",
            "Saindo do programa...\n"
          ]
        }
      ]
    }
  ]
}